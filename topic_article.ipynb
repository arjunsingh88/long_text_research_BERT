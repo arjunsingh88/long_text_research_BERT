{
 "cells": [
  {
   "cell_type": "code",
   "execution_count": 148,
   "metadata": {},
   "outputs": [],
   "source": [
    "import os\n",
    "from google.cloud.sql.connector import Connector, IPTypes\n",
    "import sqlalchemy\n",
    "from sqlalchemy import MetaData, Table, create_engine\n",
    "import os\n",
    "from dotenv import load_dotenv\n",
    "import pandas as pd\n",
    "\n",
    "import json\n",
    "import requests\n",
    "\n",
    "load_dotenv()\n",
    "\n",
    "connector = Connector()\n",
    "\n",
    "def getconn():\n",
    "    with Connector() as connector:\n",
    "        conn = connector.connect(\n",
    "            \"surfmetrics-332511:europe-west9:prod-presse\",\n",
    "            \"pg8000\",\n",
    "            user=\"admin\",\n",
    "            password=\"c0[\\V;7u(ym=)*k,\",\n",
    "            db=\"surfmetrics\",\n",
    "            ip_type= IPTypes.PUBLIC\n",
    "        )\n",
    "    return conn\n",
    "\n",
    "\n",
    "# create connection pool with 'creator' argument to our connection object function\n",
    "pool = sqlalchemy.create_engine(\"postgresql+pg8000://\",creator=getconn)\n",
    "\n",
    "\n",
    "relation_table_name = '\"company_X_articles\"'\n",
    "relation_table_name_2 = '\"portfolios_X_companies\"  '\n",
    "sql_string = f\"SELECT *   \\\n",
    "                            FROM {relation_table_name}    \\\n",
    "                            WHERE COMPANY_ID IN \\\n",
    "                                    (SELECT COMPANY_ID  \\\n",
    "                                        FROM {relation_table_name_2} \\\n",
    "                                        WHERE PORTFOLIO_ID = 1 )    \\\n",
    "                                AND PROCESSING_ERROR = FALSE    \\\n",
    "                                AND TOTAL_MENTIONS > 0     \\\n",
    "                                AND SCORE BETWEEN 1 AND 100 \"\n",
    "\n",
    "\n",
    "\n",
    "\n",
    "with pool.connect() as db_conn:\n",
    "    select_query = sqlalchemy.text(sql_string)\n",
    "    results = db_conn.execute(select_query).all()\n",
    "    df_pa = pd.DataFrame(results)\n",
    "\n",
    "db_conn.close()"
   ]
  },
  {
   "cell_type": "code",
   "execution_count": 149,
   "metadata": {},
   "outputs": [],
   "source": [
    "sql_string = f\"SELECT * from ARTICLES\"\n",
    "\n",
    "with pool.connect() as db_conn:\n",
    "    select_query = sqlalchemy.text(sql_string)\n",
    "    results = db_conn.execute(select_query).all()\n",
    "    df_article = pd.DataFrame(results)\n",
    "\n",
    "db_conn.close()"
   ]
  },
  {
   "cell_type": "code",
   "execution_count": 213,
   "metadata": {},
   "outputs": [],
   "source": [
    "sql_string = f\"SELECT * from topic\"\n",
    "\n",
    "with pool.connect() as db_conn:\n",
    "    select_query = sqlalchemy.text(sql_string)\n",
    "    results = db_conn.execute(select_query).all()\n",
    "    df_topic = pd.DataFrame(results)\n",
    "\n",
    "db_conn.close()"
   ]
  },
  {
   "cell_type": "code",
   "execution_count": 154,
   "metadata": {},
   "outputs": [
    {
     "data": {
      "text/plain": [
       "Index(['url_hash', 'url', 'provider', 'title', 'html_content', 'summary',\n",
       "       'keywords', 'language', 'category', 'pending', 'date_published',\n",
       "       'date_published_zen', 'date_created', 'processed_date',\n",
       "       'processed_date_scraping', 'processed_date_filter', 'google_search',\n",
       "       'google_news', 'date_visual', 'subject'],\n",
       "      dtype='object')"
      ]
     },
     "execution_count": 154,
     "metadata": {},
     "output_type": "execute_result"
    }
   ],
   "source": [
    "df_article.columns"
   ]
  },
  {
   "cell_type": "code",
   "execution_count": 155,
   "metadata": {},
   "outputs": [],
   "source": [
    "join_table = pd.merge(df_pa, df_article[['url_hash', 'category','date_published']], left_on='article_url_hash', right_on='url_hash', how='left')\n"
   ]
  },
  {
   "cell_type": "code",
   "execution_count": 161,
   "metadata": {},
   "outputs": [],
   "source": [
    "join_fin = join_table[join_table['category']!='Other'][['article_url_hash','score','category','date_published']]"
   ]
  },
  {
   "cell_type": "code",
   "execution_count": 205,
   "metadata": {},
   "outputs": [],
   "source": [
    "df_topic = df_topic.sample(len(df_topic)).reset_index(drop=True)"
   ]
  },
  {
   "cell_type": "code",
   "execution_count": 207,
   "metadata": {},
   "outputs": [
    {
     "name": "stdout",
     "output_type": "stream",
     "text": [
      "99\n"
     ]
    }
   ],
   "source": [
    "fin_df = pd.DataFrame(columns=['id', 'article_url_hash'])\n",
    "start = 7\n",
    "end = 100 - (100 - start) % 4 # adjust end value to ensure last check is until 100\n",
    "for id in df_topic['id']:\n",
    "    sample = join_fin[join_fin['score'].between(start, start+3)]\n",
    "    new = df_topic[df_topic['id']==id]['id'].to_frame().merge(sample['article_url_hash'].to_frame() , how='cross').reset_index(drop=True)\n",
    "    fin_df = pd.concat([fin_df,new ], axis = 0).reset_index(drop=True)\n",
    "    start+=4\n",
    "    if start > end:\n",
    "        break\n",
    "print(end)\n"
   ]
  },
  {
   "cell_type": "code",
   "execution_count": 208,
   "metadata": {},
   "outputs": [],
   "source": [
    "fin_df['priority'] = 1"
   ]
  },
  {
   "cell_type": "code",
   "execution_count": 209,
   "metadata": {},
   "outputs": [
    {
     "data": {
      "text/plain": [
       "Index(['id', 'article_url_hash', 'priority'], dtype='object')"
      ]
     },
     "execution_count": 209,
     "metadata": {},
     "output_type": "execute_result"
    }
   ],
   "source": [
    "fin_df.columns"
   ]
  },
  {
   "cell_type": "code",
   "execution_count": 210,
   "metadata": {},
   "outputs": [],
   "source": [
    "fin_df.columns = [\"topic_id\",\"article_url_hash\",\"priority\"]"
   ]
  },
  {
   "cell_type": "code",
   "execution_count": 212,
   "metadata": {},
   "outputs": [],
   "source": [
    "fin_df.to_csv('topic_x_article.csv', sep=',', index=False)"
   ]
  }
 ],
 "metadata": {
  "kernelspec": {
   "display_name": "bert_training",
   "language": "python",
   "name": "python3"
  },
  "language_info": {
   "codemirror_mode": {
    "name": "ipython",
    "version": 3
   },
   "file_extension": ".py",
   "mimetype": "text/x-python",
   "name": "python",
   "nbconvert_exporter": "python",
   "pygments_lexer": "ipython3",
   "version": "3.9.15"
  },
  "orig_nbformat": 4
 },
 "nbformat": 4,
 "nbformat_minor": 2
}
